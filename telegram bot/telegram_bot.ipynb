{
 "cells": [
  {
   "cell_type": "code",
   "execution_count": null,
   "metadata": {},
   "outputs": [],
   "source": [
    "import telegram\n",
    "bot = telegram.Bot(token='6905941845:AAEE8qD7HZ0GJYO5BT6kvoATAi1jFBFGF0g')\n",
    "@bot.message_handler(commands=['start', 'help'])\n",
    "def send_welcome(message):\n",
    "    bot.reply_to(message, \"Hello! I'm here to help.\")\n",
    "\n",
    "@bot.message_handler(func=lambda message: True)  # Handle any other message\n",
    "def echo_all(message):\n",
    "    bot.reply_to(message, message.text)\n"
   ]
  },
  {
   "cell_type": "code",
   "execution_count": 25,
   "metadata": {},
   "outputs": [
    {
     "name": "stdout",
     "output_type": "stream",
     "text": [
      "{\"ok\":true,\"result\":{\"message_id\":6,\"from\":{\"id\":6905941845,\"is_bot\":true,\"first_name\":\"DonorUpdator bot\",\"username\":\"DonorUpdator_bot\"},\"chat\":{\"id\":-4103548612,\"title\":\"BloodDonor-Asyraf\",\"type\":\"group\",\"all_members_are_administrators\":true},\"date\":1705842622,\"photo\":[{\"file_id\":\"AgACAgUAAxkDAAMGZa0XvQy7RODCJnSootcBS08PbOIAAvy-MRtpe2lVepX5cjcdqfsBAAMCAANzAAM0BA\",\"file_unique_id\":\"AQAD_L4xG2l7aVV4\",\"file_size\":1138,\"width\":90,\"height\":69},{\"file_id\":\"AgACAgUAAxkDAAMGZa0XvQy7RODCJnSootcBS08PbOIAAvy-MRtpe2lVepX5cjcdqfsBAAMCAANtAAM0BA\",\"file_unique_id\":\"AQAD_L4xG2l7aVVy\",\"file_size\":9359,\"width\":320,\"height\":244},{\"file_id\":\"AgACAgUAAxkDAAMGZa0XvQy7RODCJnSootcBS08PbOIAAvy-MRtpe2lVepX5cjcdqfsBAAMCAAN4AAM0BA\",\"file_unique_id\":\"AQAD_L4xG2l7aVV9\",\"file_size\":19504,\"width\":597,\"height\":455}],\"caption\":\"The Demographic shows that blood donor around the age 20-29 is the most frequent returning blood donor.\"}}\n"
     ]
    }
   ],
   "source": [
    "import requests\n",
    "\n",
    "bot_url = \"https://api.telegram.org/bot6905941845:AAEE8qD7HZ0GJYO5BT6kvoATAi1jFBFGF0g/sendPhoto\"\n",
    "\n",
    "files = {\"photo\" : open(\"D:\\\\output.png\", 'rb')}\n",
    "\n",
    "parameter = {\n",
    "    \"chat_id\" : \"-4103548612\",\n",
    "    \"caption\" : \"The Demographic shows that blood donor around the age 20-29 is the most frequent returning blood donor.\"\n",
    "}\n",
    "\n",
    "resp = requests.get(bot_url,data=parameter, files=files)\n",
    "print(resp.text)"
   ]
  }
 ],
 "metadata": {
  "kernelspec": {
   "display_name": "MLOps",
   "language": "python",
   "name": "python3"
  },
  "language_info": {
   "codemirror_mode": {
    "name": "ipython",
    "version": 3
   },
   "file_extension": ".py",
   "mimetype": "text/x-python",
   "name": "python",
   "nbconvert_exporter": "python",
   "pygments_lexer": "ipython3",
   "version": "3.11.7"
  }
 },
 "nbformat": 4,
 "nbformat_minor": 2
}
